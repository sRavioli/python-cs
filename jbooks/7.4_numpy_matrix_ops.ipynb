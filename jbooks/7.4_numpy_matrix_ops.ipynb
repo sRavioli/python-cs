{
 "cells": [
  {
   "cell_type": "markdown",
   "id": "12298659",
   "metadata": {},
   "source": [
    "Importiamo `numpy`"
   ]
  },
  {
   "cell_type": "code",
   "execution_count": 1,
   "id": "4833c5c8",
   "metadata": {},
   "outputs": [],
   "source": [
    "import numpy as np"
   ]
  },
  {
   "cell_type": "markdown",
   "id": "e45ce93f",
   "metadata": {},
   "source": [
    "Per calcolare la **trasposta** di una matrice, usiamo la funzione `transpose()`."
   ]
  },
  {
   "cell_type": "code",
   "execution_count": 2,
   "id": "c572a13e",
   "metadata": {},
   "outputs": [
    {
     "data": {
      "text/plain": [
       "array([[1, 4],\n",
       "       [2, 5],\n",
       "       [3, 6]])"
      ]
     },
     "execution_count": 2,
     "metadata": {},
     "output_type": "execute_result"
    }
   ],
   "source": [
    "x = np.array([[1, 2, 3], [4, 5, 6]])\n",
    "np.transpose(x)"
   ]
  },
  {
   "cell_type": "markdown",
   "id": "a635cd16",
   "metadata": {},
   "source": [
    "Per calcolare l'**inversa** di una matrice, usiamo la funzione `inv()` del package `linalg`"
   ]
  },
  {
   "cell_type": "code",
   "execution_count": 3,
   "id": "dca0ea66",
   "metadata": {},
   "outputs": [
    {
     "data": {
      "text/plain": [
       "array([[0.2 , 0.  , 0.  ],\n",
       "       [0.  , 0.5 , 0.  ],\n",
       "       [0.  , 0.  , 0.25]])"
      ]
     },
     "execution_count": 3,
     "metadata": {},
     "output_type": "execute_result"
    }
   ],
   "source": [
    "x = np.array([[5, 0, 0], [0, 2, 0], [0, 0, 4]])\n",
    "np.linalg.inv(x)"
   ]
  },
  {
   "cell_type": "markdown",
   "id": "acbf0766",
   "metadata": {},
   "source": [
    "Se proviamo a calcolare l'inversa di una matrice rettangolare o di una matrice singolare, la funzione `inv()` restituirà un `LinAlgError`."
   ]
  },
  {
   "cell_type": "code",
   "execution_count": 4,
   "id": "78b42850",
   "metadata": {},
   "outputs": [
    {
     "name": "stdout",
     "output_type": "stream",
     "text": [
      "Error: matrix is a rectangular matrix\n",
      "Error: matrix is a singular matrix\n"
     ]
    }
   ],
   "source": [
    "# con matrice rettangolare:\n",
    "try:\n",
    "    mat = np.array([[1,2,3], [4,5,6]])\n",
    "    np.linalg.inv(mat)\n",
    "except np.linalg.LinAlgError:\n",
    "    print(\"Error: matrix is a rectangular matrix\")\n",
    "\n",
    "# con matrice singolare\n",
    "try:\n",
    "    mat = np.array([[1,1,1],[2,2,2],[0,0,1]])\n",
    "    np.linalg.inv(mat)\n",
    "except np.linalg.LinAlgError:\n",
    "    print(\"Error: matrix is a singular matrix\")"
   ]
  },
  {
   "cell_type": "markdown",
   "id": "7889c58d",
   "metadata": {},
   "source": [
    "Usiamo la funzione `inner()` per calcolare il prodotto **scalare** tra due vettori. Partiamo con un caso monodimensionale:\n",
    "\n"
   ]
  },
  {
   "cell_type": "code",
   "execution_count": 5,
   "id": "7f93f95b",
   "metadata": {},
   "outputs": [
    {
     "data": {
      "text/plain": [
       "32"
      ]
     },
     "execution_count": 5,
     "metadata": {},
     "output_type": "execute_result"
    }
   ],
   "source": [
    "a = np.array([1, 2, 3])\n",
    "b = np.array([4, 5, 6])\n",
    "\n",
    "np.inner(a, b)"
   ]
  },
  {
   "cell_type": "markdown",
   "id": "b1520ca6",
   "metadata": {},
   "source": [
    "Vediamo cosa accade in un caso multidimensionale:"
   ]
  },
  {
   "cell_type": "code",
   "execution_count": 6,
   "id": "f7a66ffd",
   "metadata": {},
   "outputs": [
    {
     "data": {
      "text/plain": [
       "array([[2, 1],\n",
       "       [4, 3]])"
      ]
     },
     "execution_count": 6,
     "metadata": {},
     "output_type": "execute_result"
    }
   ],
   "source": [
    "a = np.array([[1, 2], [3, 4]])\n",
    "b = np.array([[0, 1], [1, 0]])\n",
    "\n",
    "np.inner(a, b)"
   ]
  },
  {
   "cell_type": "markdown",
   "id": "487ab373",
   "metadata": {},
   "source": [
    "In questo caso, la formulazione è del tipo:\n",
    "$$\n",
    "p = \\begin{bmatrix}\n",
    "        a_1 \\cdot b_1 + a_2 \\cdot b_2 & a_1 \\cdot b_3 + a_2 \\cdot b_4 \\\\\n",
    "        a_3 \\cdot b_1 + a_4 \\cdot b_2 & a_3 \\cdot b_3 + a_4 \\cdot b_4\n",
    "    \\end{bmatrix}\n",
    "  = \\begin{bmatrix}\n",
    "        1 \\cdot 0 + 2 \\cdot 1 & 1 \\cdot 1 + 2 \\cdot 0 \\\\\n",
    "        3 \\cdot 0 + 4 \\cdot 1 & 3 \\cdot 1 + 4 \\cdot 0\n",
    "    \\end{bmatrix}\n",
    "  = \\begin{bmatrix}\n",
    "        2 & 1 \\\\\n",
    "        4 & 3\n",
    "    \\end{bmatrix}\n",
    "$$"
   ]
  },
  {
   "cell_type": "markdown",
   "id": "42b7d147",
   "metadata": {},
   "source": [
    "Il prodotto **esterno** viene calcolato mediante la funzione `outer()`:"
   ]
  },
  {
   "cell_type": "code",
   "execution_count": 7,
   "id": "20dda0a7",
   "metadata": {},
   "outputs": [
    {
     "data": {
      "text/plain": [
       "array([[3, 4],\n",
       "       [6, 8]])"
      ]
     },
     "execution_count": 7,
     "metadata": {},
     "output_type": "execute_result"
    }
   ],
   "source": [
    "a = np.array([1, 2])\n",
    "b = np.array([3, 4])\n",
    "\n",
    "np.outer(a, b)"
   ]
  },
  {
   "cell_type": "markdown",
   "id": "30aba4a9",
   "metadata": {},
   "source": [
    "La funzione `matmul()` ci permette di effettuare il prodotto matriciale tra due matrici."
   ]
  },
  {
   "cell_type": "code",
   "execution_count": 8,
   "id": "2336bda9",
   "metadata": {},
   "outputs": [
    {
     "data": {
      "text/plain": [
       "array([[19, 22],\n",
       "       [43, 50]])"
      ]
     },
     "execution_count": 8,
     "metadata": {},
     "output_type": "execute_result"
    }
   ],
   "source": [
    "a = np.array([[1, 2], [3, 4]])\n",
    "b = np.array([[5, 6], [7, 8]])\n",
    "\n",
    "np.matmul(a, b)"
   ]
  },
  {
   "cell_type": "markdown",
   "id": "379c0dde",
   "metadata": {},
   "source": [
    "Per elevare la **matrice a potenza** utilizzare la funzione `matrix_power()` del package `linalg`:"
   ]
  },
  {
   "cell_type": "code",
   "execution_count": 9,
   "id": "0a430929",
   "metadata": {},
   "outputs": [
    {
     "data": {
      "text/plain": [
       "array([[1069, 1558],\n",
       "       [2337, 3406]])"
      ]
     },
     "execution_count": 9,
     "metadata": {},
     "output_type": "execute_result"
    }
   ],
   "source": [
    "np.linalg.matrix_power(a, 5)"
   ]
  },
  {
   "cell_type": "markdown",
   "id": "3fdd12b9",
   "metadata": {},
   "source": [
    "Per effettuare la **decomposizione ai valori singolari** (SVD):"
   ]
  },
  {
   "cell_type": "code",
   "execution_count": 10,
   "id": "c4db1605",
   "metadata": {},
   "outputs": [
    {
     "name": "stdout",
     "output_type": "stream",
     "text": [
      "u:\n",
      "[[-0.40455358 -0.9145143 ]\n",
      " [-0.9145143   0.40455358]]\n",
      "s:\n",
      "[5.4649857  0.36596619]\n",
      "v:\n",
      "[[-0.57604844 -0.81741556]\n",
      " [ 0.81741556 -0.57604844]]\n"
     ]
    }
   ],
   "source": [
    "(u, s, v) = np.linalg.svd(a)\n",
    "print(f\"u:\\n{u}\\ns:\\n{s}\\nv:\\n{v}\")"
   ]
  },
  {
   "cell_type": "markdown",
   "id": "70b3e6ad",
   "metadata": {},
   "source": [
    "Per calcolare autovettori ed autovalori di una matrice, usiamo la funzione `eig()` del package `linalg`:"
   ]
  },
  {
   "cell_type": "code",
   "execution_count": 11,
   "id": "29256c91",
   "metadata": {},
   "outputs": [
    {
     "name": "stdout",
     "output_type": "stream",
     "text": [
      "Autovalori:\n",
      "[-0.37228132  5.37228132]\n",
      "Autovettori:\n",
      "[[-0.82456484 -0.41597356]\n",
      " [ 0.56576746 -0.90937671]]\n"
     ]
    }
   ],
   "source": [
    "(w, v) = np.linalg.eig(a)\n",
    "print(f\"Autovalori:\\n{w}\\nAutovettori:\\n{v}\")"
   ]
  },
  {
   "cell_type": "markdown",
   "id": "6bc188f9",
   "metadata": {},
   "source": [
    "Per calcolare la norma, usiamo la funzione `norm()`:"
   ]
  },
  {
   "cell_type": "code",
   "execution_count": 12,
   "id": "314c1efd",
   "metadata": {},
   "outputs": [
    {
     "data": {
      "text/plain": [
       "5.477225575051661"
      ]
     },
     "execution_count": 12,
     "metadata": {},
     "output_type": "execute_result"
    }
   ],
   "source": [
    "np.linalg.norm(a)"
   ]
  },
  {
   "cell_type": "markdown",
   "id": "e55ba74b",
   "metadata": {},
   "source": [
    "Per calcolare rango, determinante e traccia, usiamo rispettivamente `matrix_rank()`, `det()`, `trace()`:"
   ]
  },
  {
   "cell_type": "code",
   "execution_count": 13,
   "id": "3baccf9b",
   "metadata": {},
   "outputs": [
    {
     "name": "stdout",
     "output_type": "stream",
     "text": [
      "Rango: 2\n",
      "Determinante: -2.0000000000000004\n",
      "Traccia: 5\n"
     ]
    }
   ],
   "source": [
    "\n",
    "rank = np.linalg.matrix_rank(a)\n",
    "det = np.linalg.det(a)\n",
    "trace = np.trace(a)\n",
    "\n",
    "print(f\"Rango: {rank}\\nDeterminante: {det}\\nTraccia: {trace}\")"
   ]
  },
  {
   "cell_type": "markdown",
   "id": "a4c1288f",
   "metadata": {},
   "source": [
    "Per risolvere il seguente sistema di equazioni lineari:\n",
    "$$\n",
    "\\begin{cases}\n",
    "    x + 2\\bar{x} + 5\\overline{\\overline{x}} = y   \\\\\n",
    "    2x + 2\\bar{x} + 3\\overline{\\overline{x}} = 3y \\\\\n",
    "    2x + 2\\bar{x} + \\overline{\\overline{x}} = 2y\n",
    "\\end{cases}\n",
    "$$"
   ]
  },
  {
   "cell_type": "code",
   "execution_count": 14,
   "id": "1679423d",
   "metadata": {},
   "outputs": [
    {
     "data": {
      "text/plain": [
       "array([ 2.  , -3.75,  3.25])"
      ]
     },
     "execution_count": 14,
     "metadata": {},
     "output_type": "execute_result"
    }
   ],
   "source": [
    "x = np.array([[1, 2, 2], [2, 2, 2], [5, 3, 1]])\n",
    "y = np.array([1, 3, 2])\n",
    "\n",
    "np.linalg.solve(x, y)"
   ]
  }
 ],
 "metadata": {
  "kernelspec": {
   "display_name": "Python 3.9.12 (conda)",
   "language": "python",
   "name": "python3"
  },
  "language_info": {
   "codemirror_mode": {
    "name": "ipython",
    "version": 3
   },
   "file_extension": ".py",
   "mimetype": "text/x-python",
   "name": "python",
   "nbconvert_exporter": "python",
   "pygments_lexer": "ipython3",
   "version": "3.9.12"
  },
  "vscode": {
   "interpreter": {
    "hash": "7ea3aea4d56f31f199056aa54c5666a4a55969f64ec94b44b0dd2c914eb53561"
   }
  }
 },
 "nbformat": 4,
 "nbformat_minor": 5
}
