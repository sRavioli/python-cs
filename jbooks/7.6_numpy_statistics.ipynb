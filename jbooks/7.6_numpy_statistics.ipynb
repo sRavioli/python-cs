{
  "cells": [
    {
      "cell_type": "markdown",
      "metadata": {},
      "source": [
        "Importiamo `numpy` e `matplotlib`:"
      ]
    },
    {
      "cell_type": "code",
      "execution_count": 1,
      "metadata": {},
      "outputs": [],
      "source": [
        "import numpy as np\n",
        "import matplotlib.pyplot as plt   # usiamo l'API pyplot"
      ]
    },
    {
      "cell_type": "markdown",
      "metadata": {},
      "source": [
        "Per ottenere il **minimo** ed il **massimo** di un vettore:"
      ]
    },
    {
      "cell_type": "code",
      "execution_count": 2,
      "metadata": {},
      "outputs": [
        {
          "name": "stdout",
          "output_type": "stream",
          "text": [
            "𝑎 = [0 7 6 4 4]\n",
            "min(𝑎) = 0\n",
            "max(𝑎) = 7\n"
          ]
        }
      ],
      "source": [
        "# generiamo (con un seed) un vettore\n",
        "rng = np.random.default_rng(42)\n",
        "a = rng.integers(low=0, high=10, size=5)\n",
        "\n",
        "print(\n",
        "    f\"𝑎 = {a}\\n\"\n",
        "    f\"min(𝑎) = {np.amin(a)}\\n\"\n",
        "    f\"max(𝑎) = {np.amax(a)}\"\n",
        ")"
      ]
    },
    {
      "cell_type": "markdown",
      "metadata": {},
      "source": [
        "Per un array multidimensionale vale la stessa notazione:"
      ]
    },
    {
      "cell_type": "code",
      "execution_count": 3,
      "metadata": {},
      "outputs": [
        {
          "name": "stdout",
          "output_type": "stream",
          "text": [
            "𝑏:\n",
            "[[8 0 6]\n",
            " [2 0 5]\n",
            " [9 7 7]]\n",
            "min(𝑏) = 0\n",
            "max(𝑏) = 9\n"
          ]
        }
      ],
      "source": [
        "b = rng.integers(low=0, high=10, size=(3, 3))\n",
        "\n",
        "print(\n",
        "    f\"𝑏:\\n{b}\\n\"\n",
        "    f\"min(𝑏) = {np.amin(b)}\\n\"\n",
        "    f\"max(𝑏) = {np.amax(b)}\"\n",
        ")"
      ]
    },
    {
      "cell_type": "markdown",
      "metadata": {},
      "source": [
        "Operando per colonna o per riga:"
      ]
    },
    {
      "cell_type": "code",
      "execution_count": 4,
      "metadata": {},
      "outputs": [
        {
          "name": "stdout",
          "output_type": "stream",
          "text": [
            "𝑏:\n",
            "[[8 0 6]\n",
            " [2 0 5]\n",
            " [9 7 7]]\n",
            "min(𝑏), per colonna: [2 0 5]\n",
            "max(𝑏), per colonna: [9 7 7]\n",
            "min(𝑏), per riga:    [0 0 7]\n",
            "max(𝑏), per riga:    [8 5 9]\n"
          ]
        }
      ],
      "source": [
        "print(\n",
        "    f\"𝑏:\\n{b}\\n\"\n",
        "    f\"min(𝑏), per colonna: {np.amin(b, axis=0)}\\n\"\n",
        "    f\"max(𝑏), per colonna: {np.amax(b, axis=0)}\\n\"\n",
        "    f\"min(𝑏), per riga:    {np.amin(b, axis=1)}\\n\"\n",
        "    f\"max(𝑏), per riga:    {np.amax(b, axis=1)}\"\n",
        ")"
      ]
    },
    {
      "cell_type": "markdown",
      "metadata": {},
      "source": [
        "Per calcolare il percentile e il quantile:"
      ]
    },
    {
      "cell_type": "code",
      "execution_count": 5,
      "metadata": {},
      "outputs": [
        {
          "name": "stdout",
          "output_type": "stream",
          "text": [
            "𝑐:\n",
            "[71 78 51 12 83 45 50 37 18 92 78 64 40 82 54 44 45 22  9 55 88  6 85 82\n",
            " 27 63 16 75 70 35  6 97 44 89 67 77 75 19 36 46 49  4 54 15 74 68 92 74\n",
            " 36 96]\n",
            "25-percentile (𝑐): 36.0\n",
            "75-quantile (𝑐):   76.5\n"
          ]
        }
      ],
      "source": [
        "c = rng.integers(low=0, high=100, size=50)\n",
        "\n",
        "print(\n",
        "    f\"𝑐:\\n{c}\\n\"\n",
        "    f\"25-percentile (𝑐): {np.percentile(c, 25)}\\n\"\n",
        "    f\"75-quantile (𝑐):   {np.quantile(c, 0.75)}\"\n",
        ")"
      ]
    },
    {
      "cell_type": "markdown",
      "metadata": {},
      "source": [
        "Operando sugli assi:"
      ]
    },
    {
      "cell_type": "code",
      "execution_count": 6,
      "metadata": {},
      "outputs": [
        {
          "name": "stdout",
          "output_type": "stream",
          "text": [
            "𝑏:\n",
            "[[8 0 6]\n",
            " [2 0 5]\n",
            " [9 7 7]]\n",
            "50-quantile 𝑏, per colonne: [8. 0. 6.]\n",
            "50-percentile 𝑏, per righe: [6. 2. 7.]\n"
          ]
        }
      ],
      "source": [
        "print(\n",
        "    f\"𝑏:\\n{b}\\n\"\n",
        "    f\"50-quantile 𝑏, per colonne: {np.quantile(b, 0.50, axis=0)}\\n\"\n",
        "    f\"50-percentile 𝑏, per righe: {np.percentile(b, 50, axis=1)}\"\n",
        ")"
      ]
    },
    {
      "cell_type": "markdown",
      "metadata": {},
      "source": [
        "Per calcolare la media **ponderata** ed **aritmetica** di un vettore:"
      ]
    },
    {
      "cell_type": "code",
      "execution_count": 7,
      "metadata": {},
      "outputs": [
        {
          "name": "stdout",
          "output_type": "stream",
          "text": [
            "𝑎: [0 7 6 4 4]\n",
            "media ponderata:  4.2\n",
            "media pesata:     4.1\n",
            "media aritmetica: 4.2\n"
          ]
        }
      ],
      "source": [
        "print(\n",
        "    f\"𝑎: {a}\\n\"\n",
        "    f\"media ponderata:  {np.average(a)}\\n\"\n",
        "    f\"media pesata:     {np.average(a, weights=[1, 1, 1, 2, 5])}\\n\"\n",
        "    f\"media aritmetica: {np.mean(a)}\"\n",
        ")"
      ]
    },
    {
      "cell_type": "markdown",
      "metadata": {},
      "source": [
        "Possiamo calcolare la media lungo righe e colonne:"
      ]
    },
    {
      "cell_type": "code",
      "execution_count": 8,
      "metadata": {},
      "outputs": [
        {
          "name": "stdout",
          "output_type": "stream",
          "text": [
            "𝑏: [[8 0 6]\n",
            " [2 0 5]\n",
            " [9 7 7]]\n",
            "media lungo colonne di 𝑏: [6.33333333 2.33333333 6.        ]\n",
            "media lungo righe di 𝑏:   [4.66666667 2.33333333 7.66666667]\n"
          ]
        }
      ],
      "source": [
        "print(\n",
        "    f\"𝑏: {b}\\n\"\n",
        "    f\"media lungo colonne di 𝑏: {np.mean(b, axis=0)}\\n\"\n",
        "    f\"media lungo righe di 𝑏:   {np.mean(b, axis=1)}\"\n",
        ")"
      ]
    },
    {
      "cell_type": "markdown",
      "metadata": {},
      "source": [
        "Per calcolare la varianza e la deviazione standard di un vettore:"
      ]
    },
    {
      "cell_type": "code",
      "execution_count": 9,
      "metadata": {},
      "outputs": [
        {
          "name": "stdout",
          "output_type": "stream",
          "text": [
            "Var(𝑎) = 5.76\n",
            "σₐ = 2.4\n"
          ]
        }
      ],
      "source": [
        "print(\n",
        "    f\"Var(𝑎) = {np.var(a)}\\n\"\n",
        "    f\"σₐ = {np.std(a)}\"\n",
        ")"
      ]
    },
    {
      "cell_type": "markdown",
      "metadata": {},
      "source": [
        "Vediamo la matrice di covarianza:"
      ]
    },
    {
      "cell_type": "code",
      "execution_count": 10,
      "metadata": {},
      "outputs": [
        {
          "name": "stdout",
          "output_type": "stream",
          "text": [
            "𝑥₁:\n",
            "[[1 2 3]\n",
            " [4 5 6]]\n",
            "matrice di covarianza:\n",
            "[[1. 1.]\n",
            " [1. 1.]]\n",
            "\n",
            "𝑥₂:\n",
            "[[ 1  2  3]\n",
            " [-1 -2 -3]]\n",
            "matrice di covarianza:\n",
            "[[ 1. -1.]\n",
            " [-1.  1.]]\n"
          ]
        }
      ],
      "source": [
        "x_corr = np.array([[1, 2, 3], [4, 5, 6]])\n",
        "print(\n",
        "    f\"𝑥₁:\\n{x_corr}\\n\"\n",
        "    f\"matrice di covarianza:\\n{np.cov(x_corr)}\\n\"\n",
        ")\n",
        "\n",
        "x_acorr = np.array([[1, 2, 3], [-1, -2, -3]])\n",
        "print(\n",
        "    f\"𝑥₂:\\n{x_acorr}\\n\"\n",
        "    f\"matrice di covarianza:\\n{np.cov(x_acorr)}\"\n",
        ")"
      ]
    },
    {
      "cell_type": "code",
      "execution_count": 11,
      "metadata": {},
      "outputs": [
        {
          "data": {
            "image/png": "[encoded data removed]",
            "text/plain": [
              "<Figure size 432x288 with 1 Axes>"
            ]
          },
          "metadata": {
            "needs_background": "light"
          },
          "output_type": "display_data"
        }
      ],
      "source": [
        "h, be = np.histogram(a)\n",
        "\n",
        "plt.bar(np.arange(1, 11), h)\n",
        "\n",
        "plt.title(\"Esempio istogramma\")\n",
        "plt.xlabel(\"Bin\")\n",
        "plt.ylabel(\"Numero di elementi\")\n",
        "\n",
        "plt.grid(True)\n",
        "plt.show()"
      ]
    }
  ],
  "metadata": {
    "kernelspec": {
      "display_name": "Python 3.9.12 (conda)",
      "language": "python",
      "name": "python3"
    },
    "language_info": {
      "codemirror_mode": {
        "name": "ipython",
        "version": 3
      },
      "file_extension": ".py",
      "mimetype": "text/x-python",
      "name": "python",
      "nbconvert_exporter": "python",
      "pygments_lexer": "ipython3",
      "version": "3.9.12"
    },
    "orig_nbformat": 4,
    "vscode": {
      "interpreter": {
        "hash": "7ea3aea4d56f31f199056aa54c5666a4a55969f64ec94b44b0dd2c914eb53561"
      }
    }
  },
  "nbformat": 4,
  "nbformat_minor": 2
}
