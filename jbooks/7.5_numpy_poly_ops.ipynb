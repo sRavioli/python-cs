{
  "cells": [
    {
      "cell_type": "code",
      "execution_count": 1,
      "metadata": {},
      "outputs": [],
      "source": [
        "import numpy as np\n",
        "from numpy.polynomial import polynomial as P"
      ]
    },
    {
      "cell_type": "markdown",
      "metadata": {},
      "source": [
        "Per effettuare un'**addizione** tra polinomi, usiamo la funzione `polyadd()`. Proviamo a considerare:\n",
        "\n",
        "$$\n",
        "\\begin{cases}\n",
        "    c_1 = 2x + 1        \\\\\n",
        "    c_2 = x^2 + 3x + 2  \\\\\n",
        "    c_3 = x^2 + x\n",
        "\\end{cases}\n",
        "$$\n",
        "\n",
        "Allora:"
      ]
    },
    {
      "cell_type": "code",
      "execution_count": 2,
      "metadata": {},
      "outputs": [
        {
          "name": "stdout",
          "output_type": "stream",
          "text": [
            "p1 = c1+c2 = 3.0 + 5.0 x**1 + 1.0 x**2\n",
            "p2 = c1+c3 = 1.0 + 3.0 x**1 + 1.0 x**2\n"
          ]
        }
      ],
      "source": [
        "c1 = P.Polynomial([1, 2])\n",
        "c2 = P.Polynomial([2, 3, 1])\n",
        "c3 = P.Polynomial([0, 1, 1])\n",
        "\n",
        "print(\n",
        "    f\"p1 = c1+c2 = {c1 + c2}\\n\"\n",
        "    f\"p2 = c1+c3 = {c1 + c3}\"\n",
        ")"
      ]
    },
    {
      "cell_type": "markdown",
      "metadata": {},
      "source": [
        "I risultati sono coerenti con quanto ci aspettiamo, infatti:\n",
        "\n",
        "$$\n",
        "\\begin{cases}\n",
        "    p_1 = x^2 + 5x + 3 \\\\\n",
        "    p_2 = x^2 + 3x + 1\n",
        "\\end{cases}\n",
        "$$\n",
        "\n",
        "Per **sottrarre** due polinomi:"
      ]
    },
    {
      "cell_type": "code",
      "execution_count": 3,
      "metadata": {},
      "outputs": [
        {
          "name": "stdout",
          "output_type": "stream",
          "text": [
            "c1-c2 = -1.0 - 1.0 x**1 - 1.0 x**2\n"
          ]
        }
      ],
      "source": [
        "print(f\"c1-c2 = {c1 - c2}\")"
      ]
    },
    {
      "cell_type": "markdown",
      "metadata": {},
      "source": [
        "Per **moltiplicare** e **dividere** due polinomi:"
      ]
    },
    {
      "cell_type": "code",
      "execution_count": 4,
      "metadata": {},
      "outputs": [
        {
          "name": "stdout",
          "output_type": "stream",
          "text": [
            "0.0 + 1.0 x**1 + 3.0 x**2 + 2.0 x**3\n",
            "1.25 + 0.5 x**1\n"
          ]
        }
      ],
      "source": [
        "print(c1 * c3)\n",
        "print(c2 // c1)"
      ]
    },
    {
      "cell_type": "markdown",
      "metadata": {},
      "source": [
        "Infine, per **elevare a potenza** un polinomio:"
      ]
    },
    {
      "cell_type": "code",
      "execution_count": 5,
      "metadata": {},
      "outputs": [
        {
          "name": "stdout",
          "output_type": "stream",
          "text": [
            "c1^2 = 1.0 + 4.0 x**1 + 4.0 x**2\n"
          ]
        }
      ],
      "source": [
        "p_pow = P.polypow(c1, 2)\n",
        "\n",
        "print(f\"c1^2 = {P.Polynomial(p_pow)}\")"
      ]
    },
    {
      "cell_type": "markdown",
      "metadata": {},
      "source": [
        "Valutiamo i valori assunti dal polinomio $c_1$. Se un polinomio $c$ è di\n",
        "lunghezza $n + 1$, la funzione restituirà il valore:\n",
        "$$p(x) = c_0 + c_1 \\cdot x + \\cdots + c_n \\cdot x^n$$\n",
        "\n",
        "Troviamo i valori assunti in $0, 1, 2$:"
      ]
    },
    {
      "cell_type": "code",
      "execution_count": 6,
      "metadata": {},
      "outputs": [
        {
          "name": "stdout",
          "output_type": "stream",
          "text": [
            "per x = 0, c1 vale: 1.0 + 2.0 x**1\n",
            "per x = 1, c1 vale: 1.0 + 2.0 x**1\n",
            "per x = 2, c1 vale: 1.0 + 2.0 x**1\n"
          ]
        }
      ],
      "source": [
        "vals = P.polyval([0, 1, 2], c1)\n",
        "\n",
        "for i in range(3):\n",
        "    print(f\"per x = {i}, c1 vale: {vals[i]}\")"
      ]
    },
    {
      "cell_type": "markdown",
      "metadata": {},
      "source": [
        "Per calcolare la **derivata** e l'**integrale** di un polinomio:"
      ]
    },
    {
      "cell_type": "code",
      "execution_count": 7,
      "metadata": {},
      "outputs": [
        {
          "name": "stdout",
          "output_type": "stream",
          "text": [
            "d/dx(c1) = 2.0\n",
            "∫c1 = 0.0 + 1.0 x**1 + 1.0 x**2\n",
            "\n"
          ]
        }
      ],
      "source": [
        "# entrambe le funzioni richiedono in input i coefficienti e non il polinomio\n",
        "p_der = P.polyder(c1.coef)\n",
        "p_int = P.polyint(c1.coef)\n",
        "\n",
        "print(\n",
        "    f\"d/dx(c1) = {P.Polynomial(p_der)}\\n\"\n",
        "    f\"∫c1 = {P.Polynomial(p_int)}\\n\"\n",
        ")"
      ]
    }
  ],
  "metadata": {
    "kernelspec": {
      "display_name": "Python 3.9.12 (conda)",
      "language": "python",
      "name": "python3"
    },
    "language_info": {
      "codemirror_mode": {
        "name": "ipython",
        "version": 3
      },
      "file_extension": ".py",
      "mimetype": "text/x-python",
      "name": "python",
      "nbconvert_exporter": "python",
      "pygments_lexer": "ipython3",
      "version": "3.9.12"
    },
    "orig_nbformat": 4,
    "vscode": {
      "interpreter": {
        "hash": "7ea3aea4d56f31f199056aa54c5666a4a55969f64ec94b44b0dd2c914eb53561"
      }
    }
  },
  "nbformat": 4,
  "nbformat_minor": 2
}
