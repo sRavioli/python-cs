{
 "cells": [
  {
   "cell_type": "code",
   "execution_count": 1,
   "id": "fecd46b3",
   "metadata": {},
   "outputs": [],
   "source": [
    "import numpy as np\n",
    "from numpy import linalg"
   ]
  },
  {
   "cell_type": "code",
   "execution_count": 2,
   "id": "56d00f35",
   "metadata": {},
   "outputs": [
    {
     "data": {
      "text/plain": [
       "array([[1, 4],\n",
       "       [2, 5],\n",
       "       [3, 6]])"
      ]
     },
     "execution_count": 2,
     "metadata": {},
     "output_type": "execute_result"
    }
   ],
   "source": [
    "m1 = np.array([[1, 2, 3], [4, 5, 6]])\n",
    "np.transpose(m1)"
   ]
  },
  {
   "cell_type": "code",
   "execution_count": 3,
   "id": "c19b7889",
   "metadata": {},
   "outputs": [
    {
     "data": {
      "text/plain": [
       "array([[1, 2, 3],\n",
       "       [4, 5, 6]])"
      ]
     },
     "execution_count": 3,
     "metadata": {},
     "output_type": "execute_result"
    }
   ],
   "source": [
    "m1"
   ]
  },
  {
   "cell_type": "code",
   "execution_count": 4,
   "id": "ebd8e2b6",
   "metadata": {},
   "outputs": [
    {
     "data": {
      "text/plain": [
       "array([[1.        , 0.        , 0.        ],\n",
       "       [0.        , 0.2       , 0.        ],\n",
       "       [0.        , 0.        , 0.33333333]])"
      ]
     },
     "execution_count": 4,
     "metadata": {},
     "output_type": "execute_result"
    }
   ],
   "source": [
    "m2 = np.array([[1, 0, 0], [0, 5, 0], [0, 0, 3]])\n",
    "linalg.inv(m2)"
   ]
  },
  {
   "cell_type": "code",
   "execution_count": 5,
   "id": "f29ff689",
   "metadata": {},
   "outputs": [
    {
     "name": "stdout",
     "output_type": "stream",
     "text": [
      "Sono nel try\n",
      "Errore: Singular matrix\n"
     ]
    }
   ],
   "source": [
    "m3 = np.array([[[1, 2, 3], [2, 4, 6], [5, 2, 12]]])\n",
    "\n",
    "# prova ad eseguire le istruzioni in try:, altrimenti solleva (raise) un errore\n",
    "try:\n",
    "    print(\"Sono nel try\") # possiamo far eseguire altre istruzioni nel `try:`\n",
    "    linalg.inv(m3)\n",
    "# except Exception as e:\n",
    "# sappiamo che avverrà un LinAlgError. però non possiamo inserirlo perché è definito nella libreria di numpy\n",
    "except Exception as e:\n",
    "    print(f\"Errore: {e}\") # possiamo anche stampare l'errore"
   ]
  },
  {
   "cell_type": "code",
   "execution_count": 6,
   "id": "b6717664",
   "metadata": {},
   "outputs": [
    {
     "name": "stdout",
     "output_type": "stream",
     "text": [
      "Errore: Singular matrix\n",
      "[[1.         0.         0.        ]\n",
      " [0.         0.2        0.        ]\n",
      " [0.         0.         0.33333333]]\n"
     ]
    }
   ],
   "source": [
    "matrici = [m3, m2]\n",
    "\n",
    "for matrice in matrici:\n",
    "    try:\n",
    "        print(linalg.inv(matrice))\n",
    "    except Exception as e:\n",
    "        print(f\"Errore: {e}\")\n",
    "        \n",
    "# L'error handling è importante. senza il try...except il codice si fermerebbe\n",
    "# in questo modo il codice continua comunque a funzionare.\n",
    "# è FONDAMENTALE usarlo come si deve."
   ]
  },
  {
   "cell_type": "code",
   "execution_count": 13,
   "id": "d4f8a2f1",
   "metadata": {},
   "outputs": [
    {
     "data": {
      "text/plain": [
       "array([[32]])"
      ]
     },
     "execution_count": 13,
     "metadata": {},
     "output_type": "execute_result"
    }
   ],
   "source": [
    "# possiamo calcolare il prodotto scalare (interno) e il prodotto (esterno)\n",
    "\n",
    "v1 = np.array([[1, 2, 3]])\n",
    "v2 = np.array([[4, 5, 6]])\n",
    "np.inner(v1, v2)"
   ]
  },
  {
   "cell_type": "code",
   "execution_count": 8,
   "id": "369066c7-9547-441b-a7f6-28536b93f0c2",
   "metadata": {},
   "outputs": [
    {
     "data": {
      "text/plain": [
       "array([[ 4,  5,  6],\n",
       "       [ 8, 10, 12],\n",
       "       [12, 15, 18]])"
      ]
     },
     "execution_count": 8,
     "metadata": {},
     "output_type": "execute_result"
    }
   ],
   "source": [
    "np.outer(v1, v2)"
   ]
  },
  {
   "cell_type": "code",
   "execution_count": 11,
   "id": "164fced0-1705-4009-859e-27c2005ac23b",
   "metadata": {},
   "outputs": [
    {
     "data": {
      "text/plain": [
       "32"
      ]
     },
     "execution_count": 11,
     "metadata": {},
     "output_type": "execute_result"
    }
   ],
   "source": [
    "np.dot(v1.reshape(3,), v2.reshape(3,))"
   ]
  },
  {
   "cell_type": "code",
   "execution_count": 17,
   "id": "86a18676-6307-4446-bf4e-203beca07c7c",
   "metadata": {},
   "outputs": [
    {
     "data": {
      "text/plain": [
       "array([[19, 22],\n",
       "       [43, 50]])"
      ]
     },
     "execution_count": 17,
     "metadata": {},
     "output_type": "execute_result"
    }
   ],
   "source": [
    "m1 = np.array([[1, 2], [3, 4]])\n",
    "m2 = np.array([[5, 6], [7, 8]])\n",
    "np.dot(m1, m2) # .dot() agisce dove agisce?"
   ]
  },
  {
   "cell_type": "code",
   "execution_count": 18,
   "id": "0de04892-2ce4-4c6c-a12c-db6644978d19",
   "metadata": {},
   "outputs": [
    {
     "data": {
      "text/plain": [
       "array([[17, 23],\n",
       "       [39, 53]])"
      ]
     },
     "execution_count": 18,
     "metadata": {},
     "output_type": "execute_result"
    }
   ],
   "source": [
    "np.inner(m1, m2) # .inner() agisce su righe per righe (1*5 + 2*6)"
   ]
  },
  {
   "cell_type": "code",
   "execution_count": 19,
   "id": "513b17a3-cb9b-4a87-ad2f-0a7ceee2f3c0",
   "metadata": {},
   "outputs": [
    {
     "name": "stdout",
     "output_type": "stream",
     "text": [
      "[[1 2]\n",
      " [3 4]]\n",
      "[[5 6]\n",
      " [7 8]]\n"
     ]
    }
   ],
   "source": [
    "print(m1)\n",
    "print(m2)"
   ]
  },
  {
   "cell_type": "code",
   "execution_count": 20,
   "id": "60c37e8e-5874-4cb3-8308-4a8841838e41",
   "metadata": {},
   "outputs": [
    {
     "data": {
      "text/plain": [
       "array([[19, 22],\n",
       "       [43, 50]])"
      ]
     },
     "execution_count": 20,
     "metadata": {},
     "output_type": "execute_result"
    }
   ],
   "source": [
    "np.matmul(m1, m2)"
   ]
  },
  {
   "cell_type": "code",
   "execution_count": 22,
   "id": "578b0ca5-ea79-4e99-8f51-f908aee236dc",
   "metadata": {},
   "outputs": [],
   "source": [
    "# np.matmul(1, 2) # non funziona con gli scalari!"
   ]
  },
  {
   "cell_type": "code",
   "execution_count": 25,
   "id": "6b83c787-cc44-4ded-8d37-cf86356ccd2f",
   "metadata": {},
   "outputs": [
    {
     "data": {
      "text/plain": [
       "array([[1069, 1558],\n",
       "       [2337, 3406]])"
      ]
     },
     "execution_count": 25,
     "metadata": {},
     "output_type": "execute_result"
    }
   ],
   "source": [
    "linalg.matrix_power(m1, 5) # elevazione a potenza degli elementi della matrice"
   ]
  },
  {
   "cell_type": "code",
   "execution_count": 26,
   "id": "1dd05d52-ceac-427e-83f0-3ba54dd634cc",
   "metadata": {},
   "outputs": [],
   "source": [
    "# una cosa carina è la decomposizione dei valori singolari\n",
    "# consiste nello scomporre la matrice in una serie di sottomatrici"
   ]
  },
  {
   "cell_type": "code",
   "execution_count": 29,
   "id": "fa99045b-05f2-49d0-97de-a074ab821547",
   "metadata": {},
   "outputs": [
    {
     "name": "stdout",
     "output_type": "stream",
     "text": [
      "norma: 5.477225575051661\n",
      "det: -2.0000000000000004\n",
      "rango: 2\n",
      "traccia: 5\n"
     ]
    }
   ],
   "source": [
    "# è possibile calcolare la norma, il determinante, il rango e la traccia\n",
    "print(f\"norma: {linalg.norm(m1)}\")\n",
    "print(f\"det: {linalg.det(m1)}\")\n",
    "print(f\"rango: {linalg.matrix_rank(m1)}\")\n",
    "print(f\"traccia: {np.trace(m1)}\")"
   ]
  },
  {
   "cell_type": "code",
   "execution_count": 37,
   "id": "52ea9e31-9456-4f61-8b88-56b5c438c33e",
   "metadata": {},
   "outputs": [
    {
     "data": {
      "text/plain": [
       "array([[1., 0., 0.],\n",
       "       [0., 1., 0.],\n",
       "       [0., 0., 1.]])"
      ]
     },
     "execution_count": 37,
     "metadata": {},
     "output_type": "execute_result"
    }
   ],
   "source": [
    "# possiamo risolvere un sistema di eq lineari\n",
    "\n",
    "\n",
    "# EX: verificare che il prodotto di una matrice invertibile e la sua inversa sia la matrice identità\n",
    "matrix = np.array([[5, 2, 0], [0, 2, 2], [0, 1, 4]])\n",
    "inv_matrix = linalg.inv(matrix)\n",
    "np.dot(matrix, inv_matrix)"
   ]
  },
  {
   "cell_type": "code",
   "execution_count": 47,
   "id": "81e85359-0a60-4104-aa7d-ae3e7ccf3b5f",
   "metadata": {},
   "outputs": [
    {
     "name": "stdout",
     "output_type": "stream",
     "text": [
      "my det: -2\n",
      "LinAlg det: -2.0000000000000004\n"
     ]
    }
   ],
   "source": [
    "# scriviamo una func che permette di calcolare il determinante di una matrice 2*2 senza usare la func di numpy\n",
    "\n",
    "def calc_det(matrix)-> int:\n",
    "    if matrix.shape != (2, 2):\n",
    "        return print(\"Deve essere 2*2\")\n",
    "    \n",
    "    result = (matrix[0][0] * matrix[1][1]) - (matrix[1][0] * matrix[0][1])\n",
    "    return result\n",
    "        \n",
    "    \n",
    "matrix = np.array([[1, 2], [3, 4]])\n",
    "print(f\"my det: {calc_det(matrix)}\\nLinAlg det: {linalg.det(matrix)}\")"
   ]
  },
  {
   "cell_type": "code",
   "execution_count": 52,
   "id": "ee70f13e-8e6b-4ac2-814e-68ba3766f58d",
   "metadata": {},
   "outputs": [
    {
     "name": "stdout",
     "output_type": "stream",
     "text": [
      "non è 2*2\n",
      "non invertibile\n"
     ]
    }
   ],
   "source": [
    "# func che data una matrice bidimensionale, resituisce l'inversa soltanto se è bidm quadrata con det != 0\n",
    "\n",
    "\n",
    "def inv_if_invertible(mtrx):\n",
    "    try:\n",
    "        if mtrx.shape != (2, 2):\n",
    "            return print(\"non è 2*2\")\n",
    "\n",
    "        np.inv(mtrx)\n",
    "    except:\n",
    "        print(\"non invertibile\")\n",
    "        \n",
    "\n",
    "m = np.array([[1, 2, 4], [4, 5, 6]])\n",
    "mtr = np.array([[1, 2], [3, 4]])\n",
    "\n",
    "inv_if_invertible(m)\n",
    "inv_if_invertible(mtr)"
   ]
  },
  {
   "cell_type": "code",
   "execution_count": 58,
   "id": "c8a11ca3-dbb8-42e0-b4db-13b6a54fe644",
   "metadata": {},
   "outputs": [
    {
     "name": "stdout",
     "output_type": "stream",
     "text": [
      "add: [1 5 3]\n",
      "sub: [-1 -1 -1]\n"
     ]
    }
   ],
   "source": [
    "# numpy permette di trattare anche le operazioni polinomiali\n",
    "# si rappresentano solo i coefficienti\n",
    "\n",
    "c1 = (0, 2, 1) # 2x + 1\n",
    "c2 = (1, 3, 2) # x^2 + 3x + 2\n",
    "print(f\"add: {np.polyadd(c1, c2)}\")\n",
    "\n",
    "# anche la sottrazione\n",
    "print(f\"sub: {np.polysub(c1, c2)}\")"
   ]
  },
  {
   "cell_type": "code",
   "execution_count": 61,
   "id": "b35b1905-d6f3-4292-b864-4931b4fb46f0",
   "metadata": {},
   "outputs": [
    {
     "name": "stdout",
     "output_type": "stream",
     "text": [
      "   2\n",
      "1 x + 3 x + 2\n"
     ]
    }
   ],
   "source": [
    "c3 = np.poly1d([1, 3, 2])\n",
    "print(c3)"
   ]
  },
  {
   "cell_type": "code",
   "execution_count": 66,
   "id": "0b5536f0-cb81-485d-81fb-4041bf3da5fd",
   "metadata": {},
   "outputs": [
    {
     "name": "stdout",
     "output_type": "stream",
     "text": [
      " \n",
      "-2 x + 1\n"
     ]
    }
   ],
   "source": [
    "c4 = np.poly1d([-2, 1])\n",
    "print(c4)"
   ]
  },
  {
   "cell_type": "code",
   "execution_count": 67,
   "id": "af6db83b-afa4-4924-b907-71ca45c88d23",
   "metadata": {},
   "outputs": [],
   "source": [
    "from numpy.polynomial import polynomial as poly"
   ]
  },
  {
   "cell_type": "code",
   "execution_count": 73,
   "id": "18512927-4b80-4b08-82bf-53669bb0f097",
   "metadata": {},
   "outputs": [
    {
     "data": {
      "text/plain": [
       "array([1., 5., 3.])"
      ]
     },
     "execution_count": 73,
     "metadata": {},
     "output_type": "execute_result"
    }
   ],
   "source": [
    "poly.polyadd(c1, c2) # sommando polinomi di gradi diversi sommerà comunque"
   ]
  },
  {
   "cell_type": "code",
   "execution_count": null,
   "id": "6f8a8720-246d-44d6-979c-70d152edd045",
   "metadata": {},
   "outputs": [],
   "source": []
  }
 ],
 "metadata": {
  "kernelspec": {
   "display_name": "Python 3 (ipykernel)",
   "language": "python",
   "name": "python3"
  },
  "language_info": {
   "codemirror_mode": {
    "name": "ipython",
    "version": 3
   },
   "file_extension": ".py",
   "mimetype": "text/x-python",
   "name": "python",
   "nbconvert_exporter": "python",
   "pygments_lexer": "ipython3",
   "version": "3.9.12"
  }
 },
 "nbformat": 4,
 "nbformat_minor": 5
}
