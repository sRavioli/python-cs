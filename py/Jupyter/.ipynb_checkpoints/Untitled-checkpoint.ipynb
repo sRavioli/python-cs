{
 "cells": [
  {
   "cell_type": "code",
   "execution_count": 2,
   "id": "f3f06142-2a1e-4681-8bac-77d3ce8413e5",
   "metadata": {},
   "outputs": [],
   "source": [
    "import numpy as np"
   ]
  },
  {
   "cell_type": "code",
   "execution_count": 4,
   "id": "40c57906-b083-4ca6-ad90-10a975ddbf7c",
   "metadata": {},
   "outputs": [
    {
     "name": "stdout",
     "output_type": "stream",
     "text": [
      "[3 5 4]\n"
     ]
    }
   ],
   "source": [
    "ar_1 = np.array([3, 5, 4])\n",
    "print(ar_1)"
   ]
  },
  {
   "cell_type": "code",
   "execution_count": null,
   "id": "69da6335-b4ee-4150-bdf0-2c44f852d97c",
   "metadata": {},
   "outputs": [],
   "source": []
  }
 ],
 "metadata": {
  "kernelspec": {
   "display_name": "Python 3 (ipykernel)",
   "language": "python",
   "name": "python3"
  },
  "language_info": {
   "codemirror_mode": {
    "name": "ipython",
    "version": 3
   },
   "file_extension": ".py",
   "mimetype": "text/x-python",
   "name": "python",
   "nbconvert_exporter": "python",
   "pygments_lexer": "ipython3",
   "version": "3.9.12"
  }
 },
 "nbformat": 4,
 "nbformat_minor": 5
}
